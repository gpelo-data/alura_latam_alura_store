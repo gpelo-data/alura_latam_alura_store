{
 "cells": [
  {
   "cell_type": "markdown",
   "id": "99693e13-1ddd-44f3-9a13-7957c9a59a98",
   "metadata": {
    "jp-MarkdownHeadingCollapsed": true
   },
   "source": [
    "# 📚 Importación de librerías"
   ]
  },
  {
   "cell_type": "code",
   "execution_count": 46,
   "id": "4700bda4-4350-4ee5-ae4d-4d3f550c385e",
   "metadata": {},
   "outputs": [],
   "source": [
    "# Para manipular datos\n",
    "import pandas as pd\n",
    "import numpy as np"
   ]
  },
  {
   "cell_type": "code",
   "execution_count": 47,
   "id": "282fd877-ee96-48a8-ad49-6d3ea5fb6c07",
   "metadata": {},
   "outputs": [],
   "source": [
    "# Para manejar ficheros\n",
    "import os"
   ]
  },
  {
   "cell_type": "markdown",
   "id": "0789d562-f9e1-4df9-95cc-c8097055513a",
   "metadata": {
    "jp-MarkdownHeadingCollapsed": true
   },
   "source": [
    "# 📂 Importación de datos"
   ]
  },
  {
   "cell_type": "code",
   "execution_count": 48,
   "id": "be9aebff-a315-4ba9-ac7d-57cb45a1e691",
   "metadata": {},
   "outputs": [],
   "source": [
    "# Configuración de rutas\n",
    "file_path = os.getcwd()\n",
    "file_name = 'tienda'\n",
    "folder_name = 'datos'\n",
    "extension = '.csv'\n",
    "\n",
    "# Lista que guardará los dfs\n",
    "lista_dfs = []\n",
    "\n",
    "# Cargamos los dfs\n",
    "for i in range(1,5): # de 1 a 4\n",
    "    path_base = os.path.join(file_path, folder_name, file_name + str(i) + extension)\n",
    "    lista_dfs.append(pd.read_csv(path_base))"
   ]
  },
  {
   "cell_type": "markdown",
   "id": "2d6445a8-4280-4f3c-89ac-6b9a46afda93",
   "metadata": {
    "jp-MarkdownHeadingCollapsed": true
   },
   "source": [
    "# 🔍 Exploración de los datos"
   ]
  },
  {
   "cell_type": "markdown",
   "id": "d472edad-b276-4ae7-9249-94b88705ab13",
   "metadata": {},
   "source": [
    "Las 4 tiendas tienen la misma estructura por lo que podemos unifircarlas en un solo df"
   ]
  },
  {
   "cell_type": "code",
   "execution_count": 49,
   "id": "6aed1e5e-984c-467a-8561-780af568c568",
   "metadata": {},
   "outputs": [],
   "source": [
    "# Agregar columna identificadora a cada df\n",
    "lista_dfs[0]['Tienda'] = 'Tienda_1'\n",
    "lista_dfs[1]['Tienda'] = 'Tienda_2'\n",
    "lista_dfs[2]['Tienda'] = 'Tienda_3'\n",
    "lista_dfs[3]['Tienda'] = 'Tienda_4'"
   ]
  },
  {
   "cell_type": "code",
   "execution_count": 50,
   "id": "69c9f8d7-320d-4bf8-9aad-30ed6e691892",
   "metadata": {},
   "outputs": [],
   "source": [
    "# Concatenación los df\n",
    "df = pd.concat(lista_dfs, ignore_index=True)"
   ]
  },
  {
   "cell_type": "code",
   "execution_count": 51,
   "id": "30fe8b80-2f2f-4b06-927a-08adc0b848e4",
   "metadata": {},
   "outputs": [
    {
     "data": {
      "text/html": [
       "<div>\n",
       "<style scoped>\n",
       "    .dataframe tbody tr th:only-of-type {\n",
       "        vertical-align: middle;\n",
       "    }\n",
       "\n",
       "    .dataframe tbody tr th {\n",
       "        vertical-align: top;\n",
       "    }\n",
       "\n",
       "    .dataframe thead th {\n",
       "        text-align: right;\n",
       "    }\n",
       "</style>\n",
       "<table border=\"1\" class=\"dataframe\">\n",
       "  <thead>\n",
       "    <tr style=\"text-align: right;\">\n",
       "      <th></th>\n",
       "      <th>Producto</th>\n",
       "      <th>Categoría del Producto</th>\n",
       "      <th>Precio</th>\n",
       "      <th>Costo de envío</th>\n",
       "      <th>Fecha de Compra</th>\n",
       "      <th>Vendedor</th>\n",
       "      <th>Lugar de Compra</th>\n",
       "      <th>Calificación</th>\n",
       "      <th>Método de pago</th>\n",
       "      <th>Cantidad de cuotas</th>\n",
       "      <th>lat</th>\n",
       "      <th>lon</th>\n",
       "      <th>Tienda</th>\n",
       "    </tr>\n",
       "  </thead>\n",
       "  <tbody>\n",
       "    <tr>\n",
       "      <th>0</th>\n",
       "      <td>Asistente virtual</td>\n",
       "      <td>Electrónicos</td>\n",
       "      <td>164300.0</td>\n",
       "      <td>6900.0</td>\n",
       "      <td>16/01/2021</td>\n",
       "      <td>Pedro Gomez</td>\n",
       "      <td>Bogotá</td>\n",
       "      <td>4</td>\n",
       "      <td>Tarjeta de crédito</td>\n",
       "      <td>8</td>\n",
       "      <td>4.60971</td>\n",
       "      <td>-74.08175</td>\n",
       "      <td>Tienda_1</td>\n",
       "    </tr>\n",
       "    <tr>\n",
       "      <th>1</th>\n",
       "      <td>Mesa de comedor</td>\n",
       "      <td>Muebles</td>\n",
       "      <td>192300.0</td>\n",
       "      <td>8400.0</td>\n",
       "      <td>18/05/2022</td>\n",
       "      <td>Beatriz Morales</td>\n",
       "      <td>Medellín</td>\n",
       "      <td>1</td>\n",
       "      <td>Tarjeta de crédito</td>\n",
       "      <td>4</td>\n",
       "      <td>6.25184</td>\n",
       "      <td>-75.56359</td>\n",
       "      <td>Tienda_1</td>\n",
       "    </tr>\n",
       "    <tr>\n",
       "      <th>2</th>\n",
       "      <td>Juego de mesa</td>\n",
       "      <td>Juguetes</td>\n",
       "      <td>209600.0</td>\n",
       "      <td>15900.0</td>\n",
       "      <td>15/03/2021</td>\n",
       "      <td>Juan Fernandez</td>\n",
       "      <td>Cartagena</td>\n",
       "      <td>1</td>\n",
       "      <td>Tarjeta de crédito</td>\n",
       "      <td>1</td>\n",
       "      <td>10.39972</td>\n",
       "      <td>-75.51444</td>\n",
       "      <td>Tienda_1</td>\n",
       "    </tr>\n",
       "    <tr>\n",
       "      <th>3</th>\n",
       "      <td>Microondas</td>\n",
       "      <td>Electrodomésticos</td>\n",
       "      <td>757500.0</td>\n",
       "      <td>41000.0</td>\n",
       "      <td>03/05/2022</td>\n",
       "      <td>Juan Fernandez</td>\n",
       "      <td>Cali</td>\n",
       "      <td>4</td>\n",
       "      <td>Nequi</td>\n",
       "      <td>1</td>\n",
       "      <td>3.43722</td>\n",
       "      <td>-76.52250</td>\n",
       "      <td>Tienda_1</td>\n",
       "    </tr>\n",
       "    <tr>\n",
       "      <th>4</th>\n",
       "      <td>Silla de oficina</td>\n",
       "      <td>Muebles</td>\n",
       "      <td>335200.0</td>\n",
       "      <td>20200.0</td>\n",
       "      <td>07/11/2020</td>\n",
       "      <td>Maria Alfonso</td>\n",
       "      <td>Medellín</td>\n",
       "      <td>5</td>\n",
       "      <td>Nequi</td>\n",
       "      <td>1</td>\n",
       "      <td>6.25184</td>\n",
       "      <td>-75.56359</td>\n",
       "      <td>Tienda_1</td>\n",
       "    </tr>\n",
       "  </tbody>\n",
       "</table>\n",
       "</div>"
      ],
      "text/plain": [
       "            Producto Categoría del Producto    Precio  Costo de envío  \\\n",
       "0  Asistente virtual           Electrónicos  164300.0          6900.0   \n",
       "1    Mesa de comedor                Muebles  192300.0          8400.0   \n",
       "2      Juego de mesa               Juguetes  209600.0         15900.0   \n",
       "3         Microondas      Electrodomésticos  757500.0         41000.0   \n",
       "4   Silla de oficina                Muebles  335200.0         20200.0   \n",
       "\n",
       "  Fecha de Compra         Vendedor Lugar de Compra  Calificación  \\\n",
       "0      16/01/2021      Pedro Gomez          Bogotá             4   \n",
       "1      18/05/2022  Beatriz Morales        Medellín             1   \n",
       "2      15/03/2021   Juan Fernandez       Cartagena             1   \n",
       "3      03/05/2022   Juan Fernandez            Cali             4   \n",
       "4      07/11/2020    Maria Alfonso        Medellín             5   \n",
       "\n",
       "       Método de pago  Cantidad de cuotas       lat       lon    Tienda  \n",
       "0  Tarjeta de crédito                   8   4.60971 -74.08175  Tienda_1  \n",
       "1  Tarjeta de crédito                   4   6.25184 -75.56359  Tienda_1  \n",
       "2  Tarjeta de crédito                   1  10.39972 -75.51444  Tienda_1  \n",
       "3               Nequi                   1   3.43722 -76.52250  Tienda_1  \n",
       "4               Nequi                   1   6.25184 -75.56359  Tienda_1  "
      ]
     },
     "execution_count": 51,
     "metadata": {},
     "output_type": "execute_result"
    }
   ],
   "source": [
    "# Resultado\n",
    "df.head()"
   ]
  },
  {
   "cell_type": "code",
   "execution_count": 52,
   "id": "fc3c2432-f53c-448c-b235-aa1f75f0a0c7",
   "metadata": {},
   "outputs": [
    {
     "name": "stdout",
     "output_type": "stream",
     "text": [
      "<class 'pandas.core.frame.DataFrame'>\n",
      "RangeIndex: 9435 entries, 0 to 9434\n",
      "Data columns (total 13 columns):\n",
      " #   Column                  Non-Null Count  Dtype  \n",
      "---  ------                  --------------  -----  \n",
      " 0   Producto                9435 non-null   object \n",
      " 1   Categoría del Producto  9435 non-null   object \n",
      " 2   Precio                  9435 non-null   float64\n",
      " 3   Costo de envío          9435 non-null   float64\n",
      " 4   Fecha de Compra         9435 non-null   object \n",
      " 5   Vendedor                9435 non-null   object \n",
      " 6   Lugar de Compra         9435 non-null   object \n",
      " 7   Calificación            9435 non-null   int64  \n",
      " 8   Método de pago          9435 non-null   object \n",
      " 9   Cantidad de cuotas      9435 non-null   int64  \n",
      " 10  lat                     9435 non-null   float64\n",
      " 11  lon                     9435 non-null   float64\n",
      " 12  Tienda                  9435 non-null   object \n",
      "dtypes: float64(4), int64(2), object(7)\n",
      "memory usage: 958.4+ KB\n"
     ]
    }
   ],
   "source": [
    "# Información sobre tipo de dato y valores nulos\n",
    "df.info()"
   ]
  },
  {
   "cell_type": "markdown",
   "id": "bc29f5d1-9f5b-4028-ab6d-b920c4a22b43",
   "metadata": {
    "jp-MarkdownHeadingCollapsed": true
   },
   "source": [
    "# 🧮 Análisis de facturación"
   ]
  },
  {
   "cell_type": "code",
   "execution_count": 68,
   "id": "c20ab7e6-26d8-4c5b-b70f-f900f2d85f1a",
   "metadata": {},
   "outputs": [],
   "source": [
    "# Agrupamos por tienda y sumamos los valores de la columna Precio\n",
    "df_facturacion = df.groupby(by='Tienda')['Precio'].sum().reset_index()"
   ]
  },
  {
   "cell_type": "code",
   "execution_count": 72,
   "id": "c9b8d79f-de58-4e11-b9a9-4227f353fdd3",
   "metadata": {},
   "outputs": [],
   "source": [
    "# Formato local (Argentina)\n",
    "def formato_arg(numero):\n",
    "    return f'{numero:,.2f}'.replace(',', 'X').replace('.', ',').replace('X', '.')"
   ]
  },
  {
   "cell_type": "code",
   "execution_count": 88,
   "id": "bb606ae5-f7ec-4791-97be-3dd38ce98795",
   "metadata": {},
   "outputs": [
    {
     "name": "stdout",
     "output_type": "stream",
     "text": [
      "\n",
      "==================================================\n",
      "         🏪 INGRESO TOTAL POR CADA TIENDA          \n",
      "==================================================\n",
      "\n",
      "◾ Tienda_1      → $     1.150.880.400,00\n",
      "◾ Tienda_2      → $     1.116.343.500,00\n",
      "◾ Tienda_3      → $     1.098.019.600,00\n",
      "◾ Tienda_4      → $     1.038.375.700,00\n",
      "\n",
      "--------------------------------------------------\n",
      "◾ TOTAL GENERAL → $     4.403.619.200,00\n",
      "==================================================\n",
      "\n"
     ]
    }
   ],
   "source": [
    "# Resultado\n",
    "def print_reporte(df):\n",
    "    print(\"\\n\" + \"=\"*50)\n",
    "    print(\"🏪 INGRESO TOTAL POR CADA TIENDA\".center(50))\n",
    "    print(\"=\"*50 + \"\\n\")\n",
    "    \n",
    "    for index, row in df.iterrows():\n",
    "        tienda = '◾ ' + row['Tienda']\n",
    "        ventas = formato_arg(row['Precio'])\n",
    "        print(f\"{tienda:15} → $ {ventas:>20}\")\n",
    "    \n",
    "    print(\"\\n\" + \"-\"*50)\n",
    "    total_general = df['Precio'].sum()\n",
    "    print(f\"{'◾ TOTAL GENERAL':15} → $ {formato_arg(total_general):>20}\")\n",
    "    print(\"=\"*50 + \"\\n\")\n",
    "\n",
    "print_reporte(df_facturacion)"
   ]
  },
  {
   "cell_type": "markdown",
   "id": "f79e90d5-7b13-46d7-9a84-6ee2fb72653c",
   "metadata": {
    "jp-MarkdownHeadingCollapsed": true
   },
   "source": [
    "# 💸 Ventas por categoría"
   ]
  },
  {
   "cell_type": "code",
   "execution_count": 101,
   "id": "75591b95-69ce-41ba-8e64-85b347992fc3",
   "metadata": {},
   "outputs": [],
   "source": [
    "# Agrupamos por categoría y sumamos los productos\n",
    "df_categoria = pd.crosstab(df['Tienda'], df['Categoría del Producto'], margins=True, margins_name='Total')"
   ]
  },
  {
   "cell_type": "code",
   "execution_count": 102,
   "id": "f86dc153-9a95-4df6-9f20-ddae5a49c946",
   "metadata": {},
   "outputs": [
    {
     "name": "stdout",
     "output_type": "stream",
     "text": [
      "\n",
      "==============================================================================================================\n",
      "                                       📦 CANTIDAD DE PRODUCTOS VENDIDOS                                       \n",
      "==============================================================================================================\n",
      "\n"
     ]
    },
    {
     "data": {
      "text/html": [
       "<div>\n",
       "<style scoped>\n",
       "    .dataframe tbody tr th:only-of-type {\n",
       "        vertical-align: middle;\n",
       "    }\n",
       "\n",
       "    .dataframe tbody tr th {\n",
       "        vertical-align: top;\n",
       "    }\n",
       "\n",
       "    .dataframe thead th {\n",
       "        text-align: right;\n",
       "    }\n",
       "</style>\n",
       "<table border=\"1\" class=\"dataframe\">\n",
       "  <thead>\n",
       "    <tr style=\"text-align: right;\">\n",
       "      <th>Categoría del Producto</th>\n",
       "      <th>Artículos para el hogar</th>\n",
       "      <th>Deportes y diversión</th>\n",
       "      <th>Electrodomésticos</th>\n",
       "      <th>Electrónicos</th>\n",
       "      <th>Instrumentos musicales</th>\n",
       "      <th>Juguetes</th>\n",
       "      <th>Libros</th>\n",
       "      <th>Muebles</th>\n",
       "      <th>Total</th>\n",
       "    </tr>\n",
       "    <tr>\n",
       "      <th>Tienda</th>\n",
       "      <th></th>\n",
       "      <th></th>\n",
       "      <th></th>\n",
       "      <th></th>\n",
       "      <th></th>\n",
       "      <th></th>\n",
       "      <th></th>\n",
       "      <th></th>\n",
       "      <th></th>\n",
       "    </tr>\n",
       "  </thead>\n",
       "  <tbody>\n",
       "    <tr>\n",
       "      <th>Tienda_1</th>\n",
       "      <td>171</td>\n",
       "      <td>284</td>\n",
       "      <td>312</td>\n",
       "      <td>448</td>\n",
       "      <td>182</td>\n",
       "      <td>324</td>\n",
       "      <td>173</td>\n",
       "      <td>465</td>\n",
       "      <td>2359</td>\n",
       "    </tr>\n",
       "    <tr>\n",
       "      <th>Tienda_2</th>\n",
       "      <td>181</td>\n",
       "      <td>275</td>\n",
       "      <td>305</td>\n",
       "      <td>422</td>\n",
       "      <td>224</td>\n",
       "      <td>313</td>\n",
       "      <td>197</td>\n",
       "      <td>442</td>\n",
       "      <td>2359</td>\n",
       "    </tr>\n",
       "    <tr>\n",
       "      <th>Tienda_3</th>\n",
       "      <td>177</td>\n",
       "      <td>277</td>\n",
       "      <td>278</td>\n",
       "      <td>451</td>\n",
       "      <td>177</td>\n",
       "      <td>315</td>\n",
       "      <td>185</td>\n",
       "      <td>499</td>\n",
       "      <td>2359</td>\n",
       "    </tr>\n",
       "    <tr>\n",
       "      <th>Tienda_4</th>\n",
       "      <td>201</td>\n",
       "      <td>277</td>\n",
       "      <td>254</td>\n",
       "      <td>451</td>\n",
       "      <td>170</td>\n",
       "      <td>338</td>\n",
       "      <td>187</td>\n",
       "      <td>480</td>\n",
       "      <td>2358</td>\n",
       "    </tr>\n",
       "    <tr>\n",
       "      <th>Total</th>\n",
       "      <td>730</td>\n",
       "      <td>1113</td>\n",
       "      <td>1149</td>\n",
       "      <td>1772</td>\n",
       "      <td>753</td>\n",
       "      <td>1290</td>\n",
       "      <td>742</td>\n",
       "      <td>1886</td>\n",
       "      <td>9435</td>\n",
       "    </tr>\n",
       "  </tbody>\n",
       "</table>\n",
       "</div>"
      ],
      "text/plain": [
       "Categoría del Producto  Artículos para el hogar  Deportes y diversión  \\\n",
       "Tienda                                                                  \n",
       "Tienda_1                                    171                   284   \n",
       "Tienda_2                                    181                   275   \n",
       "Tienda_3                                    177                   277   \n",
       "Tienda_4                                    201                   277   \n",
       "Total                                       730                  1113   \n",
       "\n",
       "Categoría del Producto  Electrodomésticos  Electrónicos  \\\n",
       "Tienda                                                    \n",
       "Tienda_1                              312           448   \n",
       "Tienda_2                              305           422   \n",
       "Tienda_3                              278           451   \n",
       "Tienda_4                              254           451   \n",
       "Total                                1149          1772   \n",
       "\n",
       "Categoría del Producto  Instrumentos musicales  Juguetes  Libros  Muebles  \\\n",
       "Tienda                                                                      \n",
       "Tienda_1                                   182       324     173      465   \n",
       "Tienda_2                                   224       313     197      442   \n",
       "Tienda_3                                   177       315     185      499   \n",
       "Tienda_4                                   170       338     187      480   \n",
       "Total                                      753      1290     742     1886   \n",
       "\n",
       "Categoría del Producto  Total  \n",
       "Tienda                         \n",
       "Tienda_1                 2359  \n",
       "Tienda_2                 2359  \n",
       "Tienda_3                 2359  \n",
       "Tienda_4                 2358  \n",
       "Total                    9435  "
      ]
     },
     "execution_count": 102,
     "metadata": {},
     "output_type": "execute_result"
    }
   ],
   "source": [
    "# Resultado\n",
    "print(\"\\n\" + \"=\"*110)\n",
    "print(\"📦 CANTIDAD DE PRODUCTOS VENDIDOS\".center(110))\n",
    "print(\"=\"*110 + \"\\n\")\n",
    "\n",
    "df_categoria.head()"
   ]
  },
  {
   "cell_type": "code",
   "execution_count": null,
   "id": "449427c6-d1e9-445e-8a3e-c5c227506aa2",
   "metadata": {},
   "outputs": [],
   "source": []
  }
 ],
 "metadata": {
  "kernelspec": {
   "display_name": "Python 3 (ipykernel)",
   "language": "python",
   "name": "python3"
  },
  "language_info": {
   "codemirror_mode": {
    "name": "ipython",
    "version": 3
   },
   "file_extension": ".py",
   "mimetype": "text/x-python",
   "name": "python",
   "nbconvert_exporter": "python",
   "pygments_lexer": "ipython3",
   "version": "3.11.13"
  }
 },
 "nbformat": 4,
 "nbformat_minor": 5
}
